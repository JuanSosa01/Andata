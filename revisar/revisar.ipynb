{
 "cells": [
  {
   "cell_type": "markdown",
   "metadata": {},
   "source": [
    "![DOC](documentacion.jpg)\n"
   ]
  },
  {
   "cell_type": "code",
   "execution_count": 24,
   "metadata": {},
   "outputs": [],
   "source": [
    "#Cargamos las librerias necesarias \n",
    "import pandas as pd\n",
    "import numpy as np\n",
    "import seaborn as sns\n",
    "import matplotlib.pyplot as plt\n",
    "import os\n",
    "# Configuro pandas para mostrar todas las columnas\n",
    "pd.set_option('display.max_columns', None)"
   ]
  },
  {
   "cell_type": "code",
   "execution_count": 25,
   "metadata": {},
   "outputs": [
    {
     "name": "stdout",
     "output_type": "stream",
     "text": [
      "df1 cargado con éxito, número de registros: 9577\n",
      "df2 cargado con éxito, número de registros: 1898\n",
      "df3 cargado con éxito, número de registros: 828\n",
      "df4 cargado con éxito, número de registros: 442\n",
      "df5 cargado con éxito, número de registros: 6022\n",
      "df6 cargado con éxito, número de registros: 1394\n",
      "df7 cargado con éxito, número de registros: 2225\n",
      "df1 columnas: ['Nombre del Censista', 'identificador_pdv', 'Nombre de Alta', 'Dirección (Generada por el Censita)', 'Fecha', 'Provincia', 'Departamento', 'Localidad', 'Coordenadas', 'Coordenadas fin', 'Origen del Registro', 'Canal', 'Razón Social', 'CUIT', 'Papeles?', 'Cantidad de Góndolas(Autoservicio)', 'Tiene Verdulería(Autoservicio)', 'Tiene Fiambrería(Autoservicio)', 'Heladeras con bebidas(Autoservicio)', 'Cantidad de Exhibidores de primeras marcas(Almacen)', 'Tiene surtido de vinos(Almacen)', 'Tiene Heladera de lácteos(Almacen)', 'Tiene gondola(Maxi Kiosco)', 'si tenga gondola, cuan llena esta?(Maxi Kiosco)', 'Tiene exhibidor de chicles/caramelos(Maxi Kiosco)', 'cuan lleno esta?(Maxi Kiosco)', 'No tiene servicios adicionales(Maxi Kiosco)', 'Fotocopias(Maxi Kiosco)', 'RapiPago(Maxi Kiosco)', 'Tramites(Maxi Kiosco)', 'SUBE(Maxi Kiosco)', 'Cuan llena estan las estanterias(Kiosco Ventana)', 'Comercializa chocolates(Vinoteca)', 'Comercializa productos de kiosco(farmacia)', 'Modalidad de Venta(Goloteca/Golsineria)', 'Tabletas(Goloteca/Golsineria)', 'Bombones(Goloteca/Golsineria)', 'Alfajores(Goloteca/Golsineria)', 'Chicles(Goloteca/Golsineria)', 'Caramelos(Goloteca/Golsineria)', 'Galletas(Goloteca/Golsineria)', 'Cantidad de góndolas/estanterías(Dietetica)', 'Llenado de estanterías(Dietetica)', 'Trabaja con?', 'Distribuidor', 'Frecuencia de Visita', 'Frecuencia de entrega', 'Se acerca un repositor de Mondelez?', 'Se acerca un repositor de la competencia?', 'En caso de que sea otro, indicar con quien', 'Aplicaciones B2B', 'MDLZ (B2B)', 'Arcor (B2B)', 'BEES (B2B)', 'Serenisima (B2B)', 'Massalin (B2B)', 'arcor (empresa)', 'georgalos (empresa)', 'quilmes (empresa)', 'pepsi (empresa)', 'cocacola (empresa)', 'cigarillos (empresa)', 'mondelez (empresa)', 'Observaciones', 'Oportunidades (Observacioenes)', 'Cantidad de heladeras', 'Estado del Inmueble', 'BC(Dietetica)', 'Aguila(Dietetica)', 'CerealMix(Dietetica)', 'Turrón Arcor(Dietetica)', 'Chocolate sin Azúcar Georgalos(Dietetica)', 'Georgalos(Dietetica)', 'Cigarros(Dietetica)', 'Que servicios adicionales tiene', 'Tipos de observación', 'Descripción', 'Nombre del Distribuidor', 'Dirección Api Google']\n",
      "df2 columnas: ['nombre_alta', 'Identificador_pdv_censo', 'Direccion_censo', 'Departamento', 'Canal', 'Provincia', 'Departamentos', 'Localidad', 'Coordenadas', 'lat', 'long', 'identificador_censita', 'nombre_censista_x', 'Fecha', '¿Realizó alguna acción? Llámese tareas, control de sku, observaciones, etc', 'origen', 'Razón Social', 'CUIT', 'Papeles?', 'Cantidad de Cajas(Autoservicio)', 'Cantidad de Góndolas(Autoservicio)', 'Tiene Verdulería(Autoservicio)', 'Tiene Fiambrería(Autoservicio)', 'Heladeras con lacteos(Autoservicio)', 'Heladeras con bebidas(Autoservicio)', 'Cantidad de Exhibidores de primeras marcas(Almacen)', 'Tiene surtido de vinos(Almacen)', 'Tiene Heladera de lácteos(Almacen)', 'Tiene gondola(Maxi Kiosco)', 'si tenga gondola, cuan llena esta?(Maxi Kiosco)', 'Tiene exhibidor de chicles/caramelos(Maxi Kiosco)', 'cuan lleno esta?(Maxi Kiosco)', 'No tiene servicios adicionales(Maxi Kiosco)', 'Fotocopias(Maxi Kiosco)', 'RapiPago(Maxi Kiosco)', 'Tramites(Maxi Kiosco)', 'SUBE(Maxi Kiosco)', 'Cuan llena estan las estanterias(Kiosco Ventana)', 'Comercializa chocolates(Vinoteca)', 'Comercializa productos de kiosco(farmacia)', 'Modalidad de Venta(Goloteca/Golsineria)', 'Tabletas(Goloteca/Golsineria)', 'Bombones(Goloteca/Golsineria)', 'Alfajores(Goloteca/Golsineria)', 'Chicles(Goloteca/Golsineria)', 'Caramelos(Goloteca/Golsineria)', 'Galletas(Goloteca/Golsineria)', 'Cantidad de góndolas/estanterías(Dietetica)', 'Llenado de estanterías(Dietetica)', 'Trabaja con?', 'Distribuidor', 'Frecuencia de Visita', 'Frecuencia de entrega', 'Se acerca un repositor de Mondelez?', 'Se acerca un repositor de la competencia?', 'En caso de que sea otro, indicar con quien', 'Aplicaciones B2B', 'MDLZ_1', 'Arcor_1', 'BEES', 'Serenisima', 'Massalin', 'arcor_e', 'georgalos_e', 'quilmes_e', 'pepsi_e', 'cocacola_e', 'cigarillos_e', 'mondelez_e', 'Observaciones', 'Oportunidades(de observaciones)', 'Cantidad_de_heladeras_1', 'Estado_de_Inmueble_1', 'BC(Dietetica)', 'Aguila(Dietetica)', 'CerealMix(Dietetica)', 'Turrón Arcor(Dietetica)', 'Chocolate sin Azúcar Georgalos(Dietetica)', 'Georgalos(Dietetica)', 'Cigarros(Dietetica)', 'Tipos de observación', 'Descripción', 'N° Poligono', 'En zona', 'cliente_por_coordenadas', 'Coincidencia Dirección', 'PDVID', ' Posible PDV Cartera', 'Oportunidad', '¿sin productos mondelez?', 'sin productos de mondelez y con productos de la competencia', '¿sin productos mondelez, pero si de la competencia?', '¿sin productos mondelez y sin de la competencia?']\n",
      "df3 columnas: ['Identificador', 'identificador del censista', 'nombre del censista', 'nombre_alta', 'Fecha', 'Provincia', 'Departamento', 'Localidad', 'Número de Polígono', 'Coordenadas', 'lat', 'long', 'Dirección', 'Origen del Registro', 'Canal_Unificado', 'Jerarquia 1 del punto de interés', 'Razón Social', 'CUIT', 'Papeles?', 'Cantidad de Cajas(Autoservicio)', 'Cantidad de Góndolas(Autoservicio)', 'Tiene Verdulería(Autoservicio)', 'Tiene Fiambrería(Autoservicio)', 'Heladeras con lacteos(Autoservicio)', 'Heladeras con bebidas(Autoservicio)', 'Cantidad de Exhibidores de primeras marcas(Almacen)', 'Tiene surtido de vinos(Almacen)', 'Tiene Heladera de lácteos(Almacen)', 'Tiene gondola(Maxi Kiosco)', 'si tenga gondola, cuan llena esta?(Maxi Kiosco)', 'Tiene exhibidor de chicles/caramelos(Maxi Kiosco)', 'cuan lleno esta?(Maxi Kiosco)', 'No tiene servicios adicionales(Maxi Kiosco)', 'Fotocopias(Maxi Kiosco)', 'RapiPago(Maxi Kiosco)', 'Tramites(Maxi Kiosco)', 'SUBE(Maxi Kiosco)', 'Cuan llena estan las estanterias(Kiosco Ventana)', 'Comercializa chocolates(Vinoteca)', 'Comercializa productos de kiosco(farmacia)', 'Modalidad de Venta(Goloteca/Golsineria)', 'Tabletas(Goloteca/Golsineria)', 'Bombones(Goloteca/Golsineria)', 'Alfajores(Goloteca/Golsineria)', 'Chicles(Goloteca/Golsineria)', 'Caramelos(Goloteca/Golsineria)', 'Galletas(Goloteca/Golsineria)', 'Cantidad de góndolas/estanterías(Dietetica)', 'Llenado de estanterías(Dietetica)', 'Trabaja con?', 'Distribuidor', 'Frecuencia de Visita', 'Frecuencia de entrega', 'Se acerca un repositor de Mondelez?', 'Se acerca un repositor de la competencia?', 'En caso de que sea otro, indicar con quien', 'Aplicaciones B2B', 'MDLZ ( B2B)', 'Arcor ( B2B)', 'BEES ( B2B)', 'Serenisima ( B2B)', 'Massalin ( B2B)', 'arcor (empresa)', 'georgalos  (empresa)', 'quilmes (empresa)', 'pepsi (empresa)', 'cocacola (empresa)', 'cigarillos (empresa)', 'mondelez (empresa)', 'Observaciones (Reporte Tareas)', 'Cantidad de heladeras', 'Estado de Inmueble', 'Oportunidades (observación Reporte Tareas)', 'BC(Dietetica)', 'Aguila(Dietetica)', 'CerealMix(Dietetica)', 'Turrón Arcor(Dietetica)', 'Chocolate sin Azúcar Georgalos(Dietetica)', 'Georgalos(Dietetica)', 'Cigarros(Dietetica)', 'Tipos de observación (Reporte de Observaciones)', 'Descripción  (Reporte de Observaciones)', 'PDVID', 'Tipo de coincidencia', 'Oportunidades', 'sin productos mondelez', 'sin productos mondelez pero si de la competencia', 'sin productos mondelez  ni de la competencia']\n",
      "df4 columnas: ['Identificador_pdv', 'ID_Censista', 'nombre del censista', 'nombre de alta', 'Fecha', 'Coordenadas', 'latitud', 'longitud', 'Provincia', 'Departamento', 'Localidad', 'Número de Polígono', 'Dirección', 'origen_del_registro', 'Canal', 'Razón Social', 'CUIT', 'Papeles?', 'Cantidad de Cajas(Autoservicio)', 'Cantidad de Góndolas(Autoservicio)', 'Tiene Verdulería(Autoservicio)', 'Tiene Fiambrería(Autoservicio)', 'Heladeras con lacteos(Autoservicio)', 'Heladeras con bebidas(Autoservicio)', 'Cantidad de Exhibidores de primeras marcas(Almacen)', 'Tiene surtido de vinos(Almacen)', 'Tiene Heladera de lácteos(Almacen)', 'Tiene gondola(Maxi Kiosco)', 'si tenga gondola, cuan llena esta?(Maxi Kiosco)', 'Tiene exhibidor de chicles/caramelos(Maxi Kiosco)', 'cuan lleno esta?(Maxi Kiosco)', 'No tiene servicios adicionales(Maxi Kiosco)', 'Fotocopias(Maxi Kiosco)', 'RapiPago(Maxi Kiosco)', 'Tramites(Maxi Kiosco)', 'SUBE(Maxi Kiosco)', 'Cuan llena estan las estanterias(Kiosco Ventana)', 'Comercializa chocolates(Vinoteca)', 'Comercializa productos de kiosco(farmacia)', 'Modalidad de Venta(Goloteca/Golsineria)', 'Tabletas(Goloteca/Golsineria)', 'Bombones(Goloteca/Golsineria)', 'Alfajores(Goloteca/Golsineria)', 'Chicles(Goloteca/Golsineria)', 'Caramelos(Goloteca/Golsineria)', 'Galletas(Goloteca/Golsineria)', 'Cantidad de góndolas/estanterías(Dietetica)', 'Llenado de estanterías(Dietetica)', 'Trabaja con?', 'Distribuidor', 'Frecuencia de Visita', 'Frecuencia de entrega', 'Se acerca un repositor de Mondelez?', 'Se acerca un repositor de la competencia?', 'En caso de que sea otro, indicar con quien', 'Aplicaciones B2B', 'MDLZ (Aplicaciones B2B)', 'Arcor(Aplicaciones B2B)', 'BEES(Aplicaciones B2B)', 'Serenisima(Aplicaciones B2B)', 'Massalin(Aplicaciones B2B)', 'arcor (empresa)', 'georgalos (empresa)', 'quilmes (empresa)', 'pepsi (empresa)', 'cocacola (empresa)', 'cigarillos (empresa)', 'mondelez (empresa)', 'Observaciones', 'Oportunidades (de Observaciones)', 'Cantidad de heladeras', 'Estado del Inmueble', 'Tipos de observación', 'Descripción', 'Posible PDV', 'PDVID', 'Tipo de coincidencia', 'Oportunidad', 'sin productos mondelez', 'sin productos mondelez  pero si de la competencia', 'sin productos mondelez  ni de la competencia']\n",
      "df5 columnas: ['fecha', 'ID_censista', 'nombre del censista', 'identificador_pdv (censo)', 'nombre de alta', 'Dirección de alta', 'Coordenadas inicio', 'Coordenadas fin', 'Provincia', 'Localidad', 'PARTIDO', 'SUBZONA', 'origen del registro', 'Canal', 'Razón Social', 'CUIT', 'Papeles?', 'Cantidad de Cajas(Autoservicio)', 'Cantidad de Góndolas(Autoservicio)', 'Tiene Verdulería(Autoservicio)', 'Tiene Fiambrería(Autoservicio)', 'Heladeras con lacteos(Autoservicio)', 'Heladeras con bebidas(Autoservicio)', 'Cantidad de Exhibidores de primeras marcas(Almacen)', 'Tiene surtido de vinos(Almacen)', 'Tiene Heladera de lácteos(Almacen)', 'Tiene gondola(Maxi Kiosco)', 'si tenga gondola, cuan llena esta?(Maxi Kiosco)', 'Tiene exhibidor de chicles/caramelos(Maxi Kiosco)', 'cuan lleno esta?(Maxi Kiosco)', 'No tiene servicios adicionales(Maxi Kiosco)', 'Fotocopias(Maxi Kiosco)', 'RapiPago(Maxi Kiosco)', 'Tramites(Maxi Kiosco)', 'SUBE(Maxi Kiosco)', 'Cuan llena estan las estanterias(Kiosco Ventana)', 'Comercializa chocolates(Vinoteca)', 'Comercializa productos de kiosco(farmacia)', 'Modalidad de Venta(Goloteca/Golsineria)', 'Tabletas(Goloteca/Golsineria)', 'Bombones(Goloteca/Golsineria)', 'Alfajores(Goloteca/Golsineria)', 'Chicles(Goloteca/Golsineria)', 'Caramelos(Goloteca/Golsineria)', 'Galletas(Goloteca/Golsineria)', 'Cantidad de góndolas/estanterías(Dietetica)', 'Llenado de estanterías(Dietetica)', 'Trabaja con?', 'Distribuidor', 'Frecuencia de Visita', 'Frecuencia de entrega', 'Se acerca un repositor de Mondelez?', 'Se acerca un repositor de la competencia?', 'En caso de que sea otro, indicar con quien', 'Aplicaciones B2B', 'MDLZ (Aplicacion B2B)', 'Arcor (Aplicacion B2B)', 'BEES (Aplicacion B2B)', 'Serenisima (Aplicacion B2B)', 'Massalin (Aplicacion B2B)', 'arcor (empresa)', 'georgalos (empresa)', 'quilmes (empresa)', 'pepsi (empresa)', 'cocacola (empresa)', 'cigarillos (empresa)', 'mondelez (empresa)', 'Observaciones', 'Oportunidades (de observaciones)', 'Cantidad de heladeras', 'Estado de Inmueble', 'BC(Dietetica)', 'Aguila(Dietetica)', 'CerealMix(Dietetica)', 'Turrón Arcor(Dietetica)', 'Chocolate sin Azúcar Georgalos(Dietetica)', 'Georgalos(Dietetica)', 'Cigarros(Dietetica)', 'Tipos de observación (Reporte de observaciones)', 'Descripción (Reporte de observaciones)', 'N° Polígono', 'Coincidencia Dirección', 'Coincidencia por coordenadas', 'PDVID', ' Posible PDV Cartera', 'Oportunidad', 'Sin productos MDLZ', 'Sin productos MDLZ y con productos de la competencia', 'Sin productos MDLZ y ni de la competencia']\n",
      "df6 columnas: ['ID_censista.1', 'nombre_censista', 'identificador_pdv', 'nombre_alta', 'Dirección', 'Fecha', 'Fecha/Hora Salida', 'Coordenadas', 'Canal', 'Provincia', 'Departamento', 'Localidad', 'origen', 'Coordenadas fin', 'Razón Social', 'CUIT', 'Papeles?', 'Cantidad de Cajas(Autoservicio)', 'Cantidad de Góndolas(Autoservicio)', 'Tiene Verdulería(Autoservicio)', 'Tiene Fiambrería(Autoservicio)', 'Heladeras con lacteos(Autoservicio)', 'Heladeras con bebidas(Autoservicio)', 'Cantidad de Exhibidores de primeras marcas(Almacen)', 'Tiene surtido de vinos(Almacen)', 'Tiene Heladera de lácteos(Almacen)', 'Tiene gondola(Maxi Kiosco)', 'si tenga gondola, cuan llena esta?(Maxi Kiosco)', 'Tiene exhibidor de chicles/caramelos(Maxi Kiosco)', 'cuan lleno esta?(Maxi Kiosco)', 'No tiene servicios adicionales(Maxi Kiosco)', 'Fotocopias(Maxi Kiosco)', 'RapiPago(Maxi Kiosco)', 'Tramites(Maxi Kiosco)', 'SUBE(Maxi Kiosco)', 'Cuan llena estan las estanterias(Kiosco Ventana)', 'Comercializa chocolates(Vinoteca)', 'Comercializa productos de kiosco(farmacia)', 'Modalidad de Venta(Goloteca/Golsineria)', 'Tabletas(Goloteca/Golsineria)', 'Bombones(Goloteca/Golsineria)', 'Alfajores(Goloteca/Golsineria)', 'Chicles(Goloteca/Golsineria)', 'Caramelos(Goloteca/Golsineria)', 'Galletas(Goloteca/Golsineria)', 'Cantidad de góndolas/estanterías(Dietetica)', 'Llenado de estanterías(Dietetica)', 'Trabaja con?', 'Distribuidor', 'Frecuencia de Visita', 'Frecuencia de entrega', 'Se acerca un repositor de Mondelez?', 'Se acerca un repositor de la competencia?', 'En caso de que sea otro, indicar con quien', 'Aplicaciones B2B', 'MDLZ (B2B)', 'Arcor (B2B)', 'BEES (B2B)', 'Serenisima (B2B)', 'Massalin (B2B)', 'arcor (empresa)', 'georgalos (empresa)', 'quilmes (empresa)', 'pepsi (empresa)', 'cocacola (empresa)', 'cigarillos_e (empresa)', 'mondelez (empresa)', 'Cantidad de heladeras', 'Estado del Inmueble', 'Observaciones', 'Oportunidades (Observaciones)', 'BC(Dietetica)', 'Aguila(Dietetica)', 'CerealMix(Dietetica)', 'Turrón Arcor(Dietetica)', 'Chocolate sin Azúcar Georgalos(Dietetica)', 'Georgalos(Dietetica)', 'Cigarros(Dietetica)', 'Tipos de observación', 'Descripción', 'CIUDAD', 'N° Polígono', 'Tipo de coincidencia', 'PDVID', ' Posible PDV Cartera', 'Oportunidad', 'Sin productos MDLZ', 'Sin productos MDLZ y con productos de la competencia', 'Sin productos MDLZ y ni de la competencia']\n",
      "df7 columnas: ['identificador_pdv', 'ID_censista', 'nombre del censista', 'nombre de alta', 'Dirección', 'Fecha', 'Coordenadas', 'lat', 'long', 'Coordenadas fin', 'Provincia', 'Departamento', 'Localidad', 'origen_del_registro', 'Canal', 'Razón Social', 'CUIT', 'Papeles?', 'Cantidad de Cajas(Autoservicio)', 'Cantidad de Góndolas(Autoservicio)', 'Tiene Verdulería(Autoservicio)', 'Tiene Fiambrería(Autoservicio)', 'Heladeras con lacteos(Autoservicio)', 'Heladeras con bebidas(Autoservicio)', 'Cantidad de Exhibidores de primeras marcas(Almacen)', 'Tiene surtido de vinos(Almacen)', 'Tiene Heladera de lácteos(Almacen)', 'Tiene gondola(Maxi Kiosco)', 'si tenga gondola, cuan llena esta?(Maxi Kiosco)', 'Tiene exhibidor de chicles/caramelos(Maxi Kiosco)', 'cuan lleno esta?(Maxi Kiosco)', 'No tiene servicios adicionales(Maxi Kiosco)', 'Fotocopias(Maxi Kiosco)', 'RapiPago(Maxi Kiosco)', 'Tramites(Maxi Kiosco)', 'SUBE(Maxi Kiosco)', 'Cuan llena estan las estanterias(Kiosco Ventana)', 'Comercializa chocolates(Vinoteca)', 'Comercializa productos de kiosco(farmacia)', 'Modalidad de Venta(Goloteca/Golsineria)', 'Tabletas(Goloteca/Golsineria)', 'Bombones(Goloteca/Golsineria)', 'Alfajores(Goloteca/Golsineria)', 'Chicles(Goloteca/Golsineria)', 'Caramelos(Goloteca/Golsineria)', 'Galletas(Goloteca/Golsineria)', 'Cantidad de góndolas/estanterías(Dietetica)', 'Llenado de estanterías(Dietetica)', 'Trabaja con?', 'Distribuidor', 'Frecuencia de Visita', 'Frecuencia de entrega', 'Se acerca un repositor de Mondelez?', 'Se acerca un repositor de la competencia?', 'En caso de que sea otro, indicar con quien', 'Aplicaciones B2B', 'MDLZ_1', 'Arcor_1', 'BEES', 'Serenisima', 'Massalin', 'arcor_e', 'georgalos_e', 'quilmes_e', 'pepsi_e', 'cocacola_e', 'cigarillos_e', 'mondelez_e', 'Observaciones', 'Cantidad_de_heladeras_1', 'Estado_de_Inmueble_1', 'BC(Dietetica)', 'Aguila(Dietetica)', 'CerealMix(Dietetica)', 'Turrón Arcor(Dietetica)', 'Chocolate sin Azúcar Georgalos(Dietetica)', 'Georgalos(Dietetica)', 'Cigarros(Dietetica)', 'Tipos de observación', 'Descripción', 'CIUDAD', 'N de poligono', 'PDVID', 'Tipo de coincidencia', 'Posible Cliente', 'Oportunidad', 'Sin Productos MDLZ', 'Sin productos MDLZ y con productos de la competencia', 'Sin productos MDLZ ni de la competencia']\n",
      "NA en df1 antes de concatenar: 0\n",
      "NA en df2 antes de concatenar: 0\n",
      "NA en df3 antes de concatenar: 0\n",
      "NA en df4 antes de concatenar: 0\n",
      "NA en df5 antes de concatenar: 0\n",
      "NA en df6 antes de concatenar: 0\n",
      "NA en df7 antes de concatenar: 0\n",
      "Número de filas con NA en \"identificador_pdv\" después de la concatenación: 0\n",
      "Empty DataFrame\n",
      "Columns: [identificador_pdv, Canal, Provincia]\n",
      "Index: []\n"
     ]
    }
   ],
   "source": [
    "# Directorio donde se encuentran los archivos XLSX\n",
    "directory = r'C:\\Users\\sosaj\\OneDrive\\Escritorio\\Andata-\\Mondelez\\revisar'\n",
    "\n",
    "# Lista de archivos xlsx en el directorio\n",
    "files = [f for f in os.listdir(directory) if f.endswith('.xlsx')]\n",
    "\n",
    "# Leo cada archivo y lo almaceno en un DF con nombre dinamico\n",
    "record_counts = {}\n",
    "for i, file in enumerate(files):\n",
    "    df_name = f'df{i + 1}'\n",
    "    file_path = os.path.join(directory, file)\n",
    "    globals()[df_name] = pd.read_excel(file_path)\n",
    "    record_counts[df_name] = globals()[df_name].shape[0]  # numero de filas\n",
    "    print(f'{df_name} cargado con éxito, número de registros: {record_counts[df_name]}')\n",
    "\n",
    "# Verifico las columnas en cada DF\n",
    "for df_name in ['df1', 'df2', 'df3', 'df4', 'df5', 'df6', 'df7']:\n",
    "    df = globals().get(df_name)\n",
    "    if df is not None:\n",
    "        print(f'{df_name} columnas: {df.columns.tolist()}')\n",
    "\n",
    "# Selecciono solo las columnas de interes en cada df\n",
    "df1 = df1[['identificador_pdv', 'Canal', 'Provincia']]\n",
    "df2 = df2[['Identificador_pdv_censo', 'Canal', 'Provincia']]\n",
    "df3 = df3[['Identificador', 'Canal_Unificado', 'Provincia']]\n",
    "df4 = df4[['Identificador_pdv', 'Canal', 'Provincia']]\n",
    "df5 = df5[['identificador_pdv (censo)', 'Canal', 'Provincia']]\n",
    "df6 = df6[['identificador_pdv', 'Canal', 'Provincia']]\n",
    "df7 = df7[['identificador_pdv', 'Canal', 'Provincia']]\n",
    "\n",
    "# Renombro las columnas para que todas tengan los mismos nombres\n",
    "df2.rename(columns={'Identificador_pdv_censo': 'identificador_pdv'}, inplace=True)\n",
    "df3.rename(columns={'Identificador': 'identificador_pdv', 'Canal_Unificado': 'Canal'}, inplace=True)\n",
    "df5.rename(columns={'identificador_pdv (censo)': 'identificador_pdv'}, inplace=True)\n",
    "\n",
    "# Verifico el nombre de la columna en df4\n",
    "df4.rename(columns={'Identificador_pdv': 'identificador_pdv'}, inplace=True)\n",
    "\n",
    "# Verificar NA en cada DataFrame antes de concatenar\n",
    "for df_name in ['df1', 'df2', 'df3', 'df4', 'df5', 'df6', 'df7']:\n",
    "    df = globals().get(df_name)\n",
    "    na_count = df['identificador_pdv'].isna().sum()\n",
    "    print(f'NA en {df_name} antes de concatenar: {na_count}')\n",
    "\n",
    "# Concatenar todos los Dfs en uno solo\n",
    "df_final = pd.concat([df1, df2, df3, df4, df5, df6, df7], ignore_index=True)\n",
    "\n",
    "# Verifico NA en el df final\n",
    "na_rows = df_final[df_final['identificador_pdv'].isna()]\n",
    "print(f'Número de filas con NA en \"identificador_pdv\" después de la concatenación: {len(na_rows)}')\n",
    "print(na_rows.head())\n",
    "\n",
    "# Elimio columnas extra \n",
    "df_final = df_final[['identificador_pdv', 'Canal', 'Provincia']]"
   ]
  },
  {
   "cell_type": "code",
   "execution_count": 27,
   "metadata": {},
   "outputs": [
    {
     "name": "stdout",
     "output_type": "stream",
     "text": [
      "Número total de registros en todos los DataFrames: 22386\n",
      "(22386, 3)\n"
     ]
    }
   ],
   "source": [
    "# Obtener el diccionario de recuentos de registros del entorno global\n",
    "record_counts = globals().get('record_counts', {})\n",
    "\n",
    "# Verificar si record_counts contiene datos\n",
    "if not record_counts:\n",
    "    print(\"El diccionario 'record_counts' está vacío o no se encontró.\")\n",
    "else:\n",
    "    # Sumar las cantidades de registros\n",
    "    total_registros = sum(record_counts.values())\n",
    "    print(f'Número total de registros en todos los DataFrames: {total_registros}')\n",
    "\n",
    "\n",
    "print(df_final.shape)"
   ]
  },
  {
   "cell_type": "code",
   "execution_count": 28,
   "metadata": {},
   "outputs": [
    {
     "data": {
      "text/html": [
       "<div>\n",
       "<style scoped>\n",
       "    .dataframe tbody tr th:only-of-type {\n",
       "        vertical-align: middle;\n",
       "    }\n",
       "\n",
       "    .dataframe tbody tr th {\n",
       "        vertical-align: top;\n",
       "    }\n",
       "\n",
       "    .dataframe thead th {\n",
       "        text-align: right;\n",
       "    }\n",
       "</style>\n",
       "<table border=\"1\" class=\"dataframe\">\n",
       "  <thead>\n",
       "    <tr style=\"text-align: right;\">\n",
       "      <th></th>\n",
       "      <th>identificador_pdv</th>\n",
       "      <th>Canal</th>\n",
       "      <th>Provincia</th>\n",
       "    </tr>\n",
       "  </thead>\n",
       "  <tbody>\n",
       "    <tr>\n",
       "      <th>0</th>\n",
       "      <td>ANZ-541694</td>\n",
       "      <td>Almacén</td>\n",
       "      <td>Santiago del Estero</td>\n",
       "    </tr>\n",
       "    <tr>\n",
       "      <th>1</th>\n",
       "      <td>BRR-835378</td>\n",
       "      <td>Maxi Kiosco</td>\n",
       "      <td>Santiago del Estero</td>\n",
       "    </tr>\n",
       "    <tr>\n",
       "      <th>2</th>\n",
       "      <td>CHI-157628</td>\n",
       "      <td>Maxi Kiosco</td>\n",
       "      <td>Santiago del Estero</td>\n",
       "    </tr>\n",
       "    <tr>\n",
       "      <th>3</th>\n",
       "      <td>DEJ-431859</td>\n",
       "      <td>Rotisería</td>\n",
       "      <td>Santiago del Estero</td>\n",
       "    </tr>\n",
       "    <tr>\n",
       "      <th>4</th>\n",
       "      <td>JA -001052</td>\n",
       "      <td>Golsinería</td>\n",
       "      <td>Santiago del Estero</td>\n",
       "    </tr>\n",
       "    <tr>\n",
       "      <th>...</th>\n",
       "      <td>...</td>\n",
       "      <td>...</td>\n",
       "      <td>...</td>\n",
       "    </tr>\n",
       "    <tr>\n",
       "      <th>22381</th>\n",
       "      <td>YRM-624933</td>\n",
       "      <td>Farmacia / Perfumería</td>\n",
       "      <td>Entre Ríos</td>\n",
       "    </tr>\n",
       "    <tr>\n",
       "      <th>22382</th>\n",
       "      <td>YUA-939181</td>\n",
       "      <td>Vinoteca</td>\n",
       "      <td>Entre Ríos</td>\n",
       "    </tr>\n",
       "    <tr>\n",
       "      <th>22383</th>\n",
       "      <td>ZAI-174258</td>\n",
       "      <td>Hotel</td>\n",
       "      <td>Entre Ríos</td>\n",
       "    </tr>\n",
       "    <tr>\n",
       "      <th>22384</th>\n",
       "      <td>ZEM-972541</td>\n",
       "      <td>Club</td>\n",
       "      <td>Entre Ríos</td>\n",
       "    </tr>\n",
       "    <tr>\n",
       "      <th>22385</th>\n",
       "      <td>ZOA-566651</td>\n",
       "      <td>Retaurant</td>\n",
       "      <td>Entre Ríos</td>\n",
       "    </tr>\n",
       "  </tbody>\n",
       "</table>\n",
       "<p>22386 rows × 3 columns</p>\n",
       "</div>"
      ],
      "text/plain": [
       "      identificador_pdv                  Canal            Provincia\n",
       "0            ANZ-541694                Almacén  Santiago del Estero\n",
       "1            BRR-835378            Maxi Kiosco  Santiago del Estero\n",
       "2            CHI-157628            Maxi Kiosco  Santiago del Estero\n",
       "3            DEJ-431859              Rotisería  Santiago del Estero\n",
       "4            JA -001052             Golsinería  Santiago del Estero\n",
       "...                 ...                    ...                  ...\n",
       "22381        YRM-624933  Farmacia / Perfumería           Entre Ríos\n",
       "22382        YUA-939181               Vinoteca           Entre Ríos\n",
       "22383        ZAI-174258                  Hotel           Entre Ríos\n",
       "22384        ZEM-972541                   Club           Entre Ríos\n",
       "22385        ZOA-566651              Retaurant           Entre Ríos\n",
       "\n",
       "[22386 rows x 3 columns]"
      ]
     },
     "execution_count": 28,
     "metadata": {},
     "output_type": "execute_result"
    }
   ],
   "source": [
    "df_final"
   ]
  },
  {
   "cell_type": "code",
   "execution_count": 29,
   "metadata": {},
   "outputs": [],
   "source": [
    "df_puntos_de_interes  = pd.read_excel(\"acumulado_10.xlsx\")"
   ]
  },
  {
   "cell_type": "markdown",
   "metadata": {},
   "source": [
    "veremos que todos los identificadores de df_final esten en df_puntos_de_interes"
   ]
  },
  {
   "cell_type": "code",
   "execution_count": 30,
   "metadata": {},
   "outputs": [
    {
     "name": "stdout",
     "output_type": "stream",
     "text": [
      "Número total de identificadores en df_final: 21819\n",
      "Número de identificadores coincidentes en df_puntos_de_interes: 21814\n",
      "Porcentaje de coincidencia: 99.98%\n",
      "Identificadores en df_final pero no en df_puntos_de_interes: {'K6-089634', 'A -966566', 'ALO-530575', 'CAA-448853', 'LA-191259'}\n"
     ]
    }
   ],
   "source": [
    "\n",
    "# Obtener los identificadores únicos de ambos DataFrames\n",
    "identificadores_final = set(df_final['identificador_pdv'].dropna())\n",
    "identificadores_puntos_de_interes = set(df_puntos_de_interes['Identificador'].dropna())\n",
    "\n",
    "# Verificar qué identificadores de df_final están en df_puntos_de_interes\n",
    "coincidencias = identificadores_final.intersection(identificadores_puntos_de_interes)\n",
    "total_identificadores_final = len(identificadores_final)\n",
    "total_coincidencias = len(coincidencias)\n",
    "\n",
    "# Calcular el porcentaje de coincidencia\n",
    "porcentaje_coincidencia = (total_coincidencias / total_identificadores_final) * 100 if total_identificadores_final > 0 else 0\n",
    "\n",
    "# Imprimir los resultados\n",
    "print(f'Número total de identificadores en df_final: {total_identificadores_final}')\n",
    "print(f'Número de identificadores coincidentes en df_puntos_de_interes: {total_coincidencias}')\n",
    "print(f'Porcentaje de coincidencia: {porcentaje_coincidencia:.2f}%')\n",
    "\n",
    "# Identificar los identificadores que están en df_final pero no en df_puntos_de_interes\n",
    "no_coincidentes = identificadores_final.difference(identificadores_puntos_de_interes)\n",
    "print(f'Identificadores en df_final pero no en df_puntos_de_interes: {no_coincidentes}')\n"
   ]
  },
  {
   "cell_type": "markdown",
   "metadata": {},
   "source": [
    "Como podemos observar tenemos para estas bases entregadas una coicidencia del 99.98% de coincidencias por lo que estos datos no presentan errores de exportacion en por comillas. "
   ]
  }
 ],
 "metadata": {
  "kernelspec": {
   "display_name": "Python 3",
   "language": "python",
   "name": "python3"
  },
  "language_info": {
   "codemirror_mode": {
    "name": "ipython",
    "version": 3
   },
   "file_extension": ".py",
   "mimetype": "text/x-python",
   "name": "python",
   "nbconvert_exporter": "python",
   "pygments_lexer": "ipython3",
   "version": "3.11.4"
  }
 },
 "nbformat": 4,
 "nbformat_minor": 2
}
